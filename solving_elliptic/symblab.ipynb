{
 "cells": [
  {
   "cell_type": "code",
   "execution_count": 1,
   "metadata": {},
   "outputs": [],
   "source": [
    "import sympy as sp\n",
    "from sympy import *\n",
    "from sympy import symbols\n",
    "import jax.numpy as jnp"
   ]
  },
  {
   "cell_type": "code",
   "execution_count": 2,
   "metadata": {},
   "outputs": [
    {
     "data": {
      "text/latex": [
       "$\\displaystyle l$"
      ],
      "text/plain": [
       "l"
      ]
     },
     "execution_count": 2,
     "metadata": {},
     "output_type": "execute_result"
    }
   ],
   "source": [
    "\n",
    "x_1, x_2, y_1, y_2 = symbols('x_1 x_2 y_1 y_2')\n",
    "l = symbols('l')\n",
    "l"
   ]
  },
  {
   "cell_type": "code",
   "execution_count": 3,
   "metadata": {},
   "outputs": [
    {
     "data": {
      "text/latex": [
       "$\\displaystyle e^{\\frac{- \\left(x_{1} - y_{1}\\right)^{2} - \\left(x_{2} - y_{2}\\right)^{2}}{l^{2}}}$"
      ],
      "text/plain": [
       "exp((-(x_1 - y_1)**2 - (x_2 - y_2)**2)/l**2)"
      ]
     },
     "execution_count": 3,
     "metadata": {},
     "output_type": "execute_result"
    }
   ],
   "source": [
    "rbf_kernel = sp.exp(-((x_1 -y_1)**2 + (x_2 - y_2)**2)/l**2)\n",
    "rbf_kernel"
   ]
  },
  {
   "cell_type": "code",
   "execution_count": 4,
   "metadata": {},
   "outputs": [
    {
     "data": {
      "text/latex": [
       "$\\displaystyle - \\frac{2 \\left(-1 + \\frac{2 \\left(x_{1} - y_{1}\\right)^{2}}{l^{2}}\\right) e^{- \\frac{\\left(x_{1} - y_{1}\\right)^{2} + \\left(x_{2} - y_{2}\\right)^{2}}{l^{2}}}}{l^{2}} - \\frac{2 \\left(-1 + \\frac{2 \\left(x_{2} - y_{2}\\right)^{2}}{l^{2}}\\right) e^{- \\frac{\\left(x_{1} - y_{1}\\right)^{2} + \\left(x_{2} - y_{2}\\right)^{2}}{l^{2}}}}{l^{2}}$"
      ],
      "text/plain": [
       "-2*(-1 + 2*(x_1 - y_1)**2/l**2)*exp(-((x_1 - y_1)**2 + (x_2 - y_2)**2)/l**2)/l**2 - 2*(-1 + 2*(x_2 - y_2)**2/l**2)*exp(-((x_1 - y_1)**2 + (x_2 - y_2)**2)/l**2)/l**2"
      ]
     },
     "execution_count": 4,
     "metadata": {},
     "output_type": "execute_result"
    }
   ],
   "source": [
    "neg_lapl = -(diff(rbf_kernel, x_1, x_1) + diff(rbf_kernel, x_2, x_2))\n",
    "neg_lapl"
   ]
  },
  {
   "cell_type": "code",
   "execution_count": 5,
   "metadata": {},
   "outputs": [],
   "source": [
    "double_neg_lapl = -(diff(neg_lapl, y_1, y_1) + diff(neg_lapl, y_2, y_2))"
   ]
  },
  {
   "cell_type": "code",
   "execution_count": 6,
   "metadata": {},
   "outputs": [
    {
     "data": {
      "text/latex": [
       "$\\displaystyle - \\frac{4 \\left(-4 + \\frac{2 \\cdot \\left(1 - \\frac{2 \\left(x_{1} - y_{1}\\right)^{2}}{l^{2}}\\right) \\left(x_{1} - y_{1}\\right)^{2}}{l^{2}} + \\frac{2 \\cdot \\left(1 - \\frac{2 \\left(x_{2} - y_{2}\\right)^{2}}{l^{2}}\\right) \\left(x_{1} - y_{1}\\right)^{2}}{l^{2}} + \\frac{10 \\left(x_{1} - y_{1}\\right)^{2}}{l^{2}} + \\frac{2 \\left(x_{2} - y_{2}\\right)^{2}}{l^{2}}\\right) e^{- \\frac{\\left(x_{1} - y_{1}\\right)^{2} + \\left(x_{2} - y_{2}\\right)^{2}}{l^{2}}}}{l^{4}} - \\frac{4 \\left(-4 + \\frac{2 \\cdot \\left(1 - \\frac{2 \\left(x_{1} - y_{1}\\right)^{2}}{l^{2}}\\right) \\left(x_{2} - y_{2}\\right)^{2}}{l^{2}} + \\frac{2 \\cdot \\left(1 - \\frac{2 \\left(x_{2} - y_{2}\\right)^{2}}{l^{2}}\\right) \\left(x_{2} - y_{2}\\right)^{2}}{l^{2}} + \\frac{2 \\left(x_{1} - y_{1}\\right)^{2}}{l^{2}} + \\frac{10 \\left(x_{2} - y_{2}\\right)^{2}}{l^{2}}\\right) e^{- \\frac{\\left(x_{1} - y_{1}\\right)^{2} + \\left(x_{2} - y_{2}\\right)^{2}}{l^{2}}}}{l^{4}}$"
      ],
      "text/plain": [
       "-4*(-4 + 2*(1 - 2*(x_1 - y_1)**2/l**2)*(x_1 - y_1)**2/l**2 + 2*(1 - 2*(x_2 - y_2)**2/l**2)*(x_1 - y_1)**2/l**2 + 10*(x_1 - y_1)**2/l**2 + 2*(x_2 - y_2)**2/l**2)*exp(-((x_1 - y_1)**2 + (x_2 - y_2)**2)/l**2)/l**4 - 4*(-4 + 2*(1 - 2*(x_1 - y_1)**2/l**2)*(x_2 - y_2)**2/l**2 + 2*(1 - 2*(x_2 - y_2)**2/l**2)*(x_2 - y_2)**2/l**2 + 2*(x_1 - y_1)**2/l**2 + 10*(x_2 - y_2)**2/l**2)*exp(-((x_1 - y_1)**2 + (x_2 - y_2)**2)/l**2)/l**4"
      ]
     },
     "execution_count": 6,
     "metadata": {},
     "output_type": "execute_result"
    }
   ],
   "source": [
    "double_neg_lapl"
   ]
  },
  {
   "cell_type": "code",
   "execution_count": 7,
   "metadata": {},
   "outputs": [
    {
     "name": "stdout",
     "output_type": "stream",
     "text": [
      "Number of points 32 (1024 measurements)\n"
     ]
    }
   ],
   "source": [
    "lower = 0.0\n",
    "upper = 1.0\n",
    "domain = jnp.array([lower,upper])\n",
    "\n",
    "\n",
    "# 2d grid \n",
    "n_points = 2**5\n",
    "print(\"Number of points {} ({} measurements)\".format(n_points, n_points**2))\n",
    "x = jnp.linspace(lower, upper, n_points, endpoint=False)\n",
    "y = jnp.linspace(lower, upper, n_points, endpoint=False)"
   ]
  },
  {
   "cell_type": "code",
   "execution_count": 8,
   "metadata": {},
   "outputs": [
    {
     "data": {
      "text/plain": [
       "Array([0.     , 0.03125, 0.0625 , 0.09375, 0.125  , 0.15625, 0.1875 ,\n",
       "       0.21875, 0.25   , 0.28125, 0.3125 , 0.34375, 0.375  , 0.40625,\n",
       "       0.4375 , 0.46875, 0.5    , 0.53125, 0.5625 , 0.59375, 0.625  ,\n",
       "       0.65625, 0.6875 , 0.71875, 0.75   , 0.78125, 0.8125 , 0.84375,\n",
       "       0.875  , 0.90625, 0.9375 , 0.96875], dtype=float32)"
      ]
     },
     "execution_count": 8,
     "metadata": {},
     "output_type": "execute_result"
    }
   ],
   "source": [
    "x"
   ]
  },
  {
   "cell_type": "code",
   "execution_count": 9,
   "metadata": {},
   "outputs": [
    {
     "data": {
      "text/latex": [
       "$\\displaystyle -4.34271127715287$"
      ],
      "text/plain": [
       "-4.34271127715287"
      ]
     },
     "execution_count": 9,
     "metadata": {},
     "output_type": "execute_result"
    }
   ],
   "source": [
    "double_neg_lapl.subs({x_1: x[0], x_2: x[-1], y_1: y[16], y_2: y[7], l : 0.5})"
   ]
  },
  {
   "cell_type": "code",
   "execution_count": 10,
   "metadata": {},
   "outputs": [],
   "source": [
    "neg_lapl_y = -(diff(rbf_kernel, y_1, y_1) + diff(rbf_kernel, y_2, y_2))"
   ]
  },
  {
   "cell_type": "code",
   "execution_count": 11,
   "metadata": {},
   "outputs": [
    {
     "data": {
      "text/latex": [
       "$\\displaystyle -1.39587148194199$"
      ],
      "text/plain": [
       "-1.39587148194199"
      ]
     },
     "execution_count": 11,
     "metadata": {},
     "output_type": "execute_result"
    }
   ],
   "source": [
    "neg_lapl_y.subs({x_1: x[0], x_2: x[-1], y_1: y[16], y_2: y[7], l : 0.5})"
   ]
  }
 ],
 "metadata": {
  "kernelspec": {
   "display_name": "jax_gpu",
   "language": "python",
   "name": "python3"
  },
  "language_info": {
   "codemirror_mode": {
    "name": "ipython",
    "version": 3
   },
   "file_extension": ".py",
   "mimetype": "text/x-python",
   "name": "python",
   "nbconvert_exporter": "python",
   "pygments_lexer": "ipython3",
   "version": "3.12.3"
  }
 },
 "nbformat": 4,
 "nbformat_minor": 2
}
