{
 "cells": [
  {
   "cell_type": "markdown",
   "metadata": {},
   "source": [
    "# SPDE is 2D\n",
    "\n",
    "We consider \n",
    "\\begin{aligned}\n",
    "-\\Delta u &=\\mathcal{W}\\\\\n",
    "u &= 0\n",
    "\\end{aligned}\n",
    "\n",
    "We use a kernel method and spectral measurements\n",
    "\n",
    "\\begin{aligned}\n",
    "[-\\Delta u, \\varphi] &=[\\mathcal{W}, \\varphi]\\\\\n",
    "u &= 0\n",
    "\\end{aligned}\n",
    "\n",
    "Here the \n",
    "$$\n",
    "\\varphi_j(x) = \\sin(2\\pi jx)\n",
    "$$\n",
    "\n",
    "We note that the quantity \n",
    "$$\n",
    "\\int -\\Delta u\\varphi_j\n",
    "$$\n",
    "can be computed using the FFT. \n",
    "\n"
   ]
  },
  {
   "cell_type": "code",
   "execution_count": 1,
   "metadata": {},
   "outputs": [],
   "source": [
    "import jax\n",
    "jax.config.update(\"jax_enable_x64\", True)"
   ]
  },
  {
   "cell_type": "code",
   "execution_count": 2,
   "metadata": {},
   "outputs": [],
   "source": [
    "import jax.numpy as jnp\n",
    "from jax import random, jit, vmap\n",
    "from jax import scipy"
   ]
  },
  {
   "cell_type": "code",
   "execution_count": null,
   "metadata": {},
   "outputs": [],
   "source": []
  }
 ],
 "metadata": {
  "kernelspec": {
   "display_name": "jax_cpu",
   "language": "python",
   "name": "python3"
  },
  "language_info": {
   "codemirror_mode": {
    "name": "ipython",
    "version": 3
   },
   "file_extension": ".py",
   "mimetype": "text/x-python",
   "name": "python",
   "nbconvert_exporter": "python",
   "pygments_lexer": "ipython3",
   "version": "3.11.7"
  }
 },
 "nbformat": 4,
 "nbformat_minor": 2
}
