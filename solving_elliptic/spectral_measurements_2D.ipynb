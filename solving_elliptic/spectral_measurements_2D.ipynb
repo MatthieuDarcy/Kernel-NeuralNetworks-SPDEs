{
 "cells": [
  {
   "cell_type": "code",
   "execution_count": 3,
   "metadata": {},
   "outputs": [
    {
     "name": "stdout",
     "output_type": "stream",
     "text": [
      "[cuda(id=0)]\n"
     ]
    }
   ],
   "source": [
    "\n",
    "import jax\n",
    "import os\n",
    "\n",
    "#os.environ['CUDA_VISIBLE_DEVICES'] = '3'\n",
    "print(jax.local_devices())\n",
    "\n",
    "\n",
    "\n",
    "import jax\n",
    "jax.config.update(\"jax_enable_x64\", True)\n",
    "\n",
    "import jax.numpy as jnp\n",
    "from jax import random, vmap, jit, grad\n",
    "import jax.scipy as scipy\n",
    "\n",
    "from jax import random\n",
    "\n",
    "\n",
    "import matplotlib.pyplot as plt\n",
    "\n",
    "from utils_rough_pde import *\n",
    "from utils_elliptic_coef import *\n",
    "\n",
    "from scipy import integrate\n",
    "\n",
    "import time\n",
    "\n",
    "from jax.numpy import fft\n",
    "\n",
    "from tqdm import tqdm"
   ]
  },
  {
   "cell_type": "code",
   "execution_count": 4,
   "metadata": {},
   "outputs": [],
   "source": [
    "def discrete_sine_transform(y):\n",
    "    n = y.shape[0]\n",
    "    y_extended = jnp.concatenate([y,  -y[::-1]])\n",
    "    y_fft = fft.rfft(y_extended)\n",
    "    return (-y_fft.imag/(jnp.sqrt(2)*(n)))"
   ]
  },
  {
   "cell_type": "code",
   "execution_count": null,
   "metadata": {},
   "outputs": [],
   "source": []
  },
  {
   "cell_type": "markdown",
   "metadata": {},
   "source": [
    "# We will compute the DST in 2 dimensions"
   ]
  },
  {
   "cell_type": "code",
   "execution_count": 23,
   "metadata": {},
   "outputs": [],
   "source": [
    "lower = 0.0\n",
    "upper = 1.0\n",
    "domain = jnp.array([lower,upper])\n",
    "\n",
    "# 2d grid \n",
    "n_points = 4\n",
    "x = jnp.linspace(lower, upper, n_points, endpoint=False)\n",
    "y = jnp.linspace(lower+1, upper+1, n_points, endpoint=False)\n",
    "X, Y = jnp.meshgrid(x, y)"
   ]
  },
  {
   "cell_type": "code",
   "execution_count": 24,
   "metadata": {},
   "outputs": [
    {
     "data": {
      "text/plain": [
       "Array([0.  , 0.25, 0.5 , 0.75], dtype=float64)"
      ]
     },
     "execution_count": 24,
     "metadata": {},
     "output_type": "execute_result"
    }
   ],
   "source": [
    "x"
   ]
  },
  {
   "cell_type": "code",
   "execution_count": 25,
   "metadata": {},
   "outputs": [
    {
     "data": {
      "text/plain": [
       "((4, 4),\n",
       " Array([[1.  , 1.  , 1.  , 1.  ],\n",
       "        [1.25, 1.25, 1.25, 1.25],\n",
       "        [1.5 , 1.5 , 1.5 , 1.5 ],\n",
       "        [1.75, 1.75, 1.75, 1.75]], dtype=float64))"
      ]
     },
     "execution_count": 25,
     "metadata": {},
     "output_type": "execute_result"
    }
   ],
   "source": [
    "X.shape, Y"
   ]
  },
  {
   "cell_type": "code",
   "execution_count": 26,
   "metadata": {},
   "outputs": [],
   "source": [
    "# Defining the second order elliptic operators \n",
    "def matern_kernel_2d(x_1, x_2, y_1, y_2, length_scale):\n",
    "    r = jnp.sqrt((x_1 - y_1) ** 2 + (x_2 - y_2) ** 2)\n",
    "    return (1 + jnp.sqrt(5)*r/length_scale + (5 / 3) * (r ** 2) / (length_scale ** 2)) * jnp.exp(-jnp.sqrt(5)*r/length_scale)"
   ]
  },
  {
   "cell_type": "code",
   "execution_count": 38,
   "metadata": {},
   "outputs": [],
   "source": [
    "length_scale = 1.0\n",
    "matern_kernel_tensor = jit(vmap(vmap(vmap(vmap(matern_kernel_2d, in_axes=(None, None,None, 0, None)), in_axes=(None, None, 0, None, None)), in_axes = (None, 0, None, None, None)), in_axes=(0, None, None, None, None)))"
   ]
  },
  {
   "cell_type": "code",
   "execution_count": 40,
   "metadata": {},
   "outputs": [],
   "source": [
    "K_tensor = matern_kernel_tensor(x, x, y, y, length_scale)"
   ]
  },
  {
   "cell_type": "code",
   "execution_count": 46,
   "metadata": {},
   "outputs": [],
   "source": [
    "# Checking that the tensor is correct\n",
    "for i in range(n_points):\n",
    "    for j in range(n_points):\n",
    "        for k in range(n_points):\n",
    "            for l in range(n_points):\n",
    "                assert K_tensor[i,j,k,l] == matern_kernel_2d(x[i], x[j], y[k], y[l], length_scale)"
   ]
  },
  {
   "cell_type": "code",
   "execution_count": 63,
   "metadata": {},
   "outputs": [],
   "source": [
    "# Testing the sine transform\n",
    "def discrete_sine_transform(y):\n",
    "    n = y.shape[0]\n",
    "    y_extended = jnp.concatenate([y,  -y[::-1]])\n",
    "    y_fft = fft.rfft(y_extended)\n",
    "    return (-y_fft.imag/(jnp.sqrt(2)*(n)))[:-1] # Removing the last spurious element "
   ]
  },
  {
   "cell_type": "code",
   "execution_count": 64,
   "metadata": {},
   "outputs": [],
   "source": [
    "def vectorize_function(f, ndim):\n",
    "    for _ in range(ndim):\n",
    "        f = jax.vmap(f)\n",
    "    return f\n",
    "\n",
    "f_test = lambda x: x**2\n",
    "\n",
    "f_test_vectorized = vectorize_function(f_test, 4)"
   ]
  },
  {
   "cell_type": "code",
   "execution_count": 65,
   "metadata": {},
   "outputs": [],
   "source": [
    "K_test = f_test_vectorized(K_tensor)\n",
    "# Checking that the tensor is correct\n",
    "for i in range(n_points):\n",
    "    for j in range(n_points):\n",
    "        for k in range(n_points):\n",
    "            for l in range(n_points):\n",
    "                assert K_test[i,j,k,l] == f_test(K_tensor[i,j,k,l])\n"
   ]
  },
  {
   "cell_type": "code",
   "execution_count": 120,
   "metadata": {},
   "outputs": [],
   "source": [
    "vmap_dst = jit(vmap(discrete_sine_transform, in_axes=(0,)))\n",
    "@jit\n",
    "def dst_2d(A):\n",
    "    # Receives a 2d array and returns the 2d discrete sine transform\n",
    "    return vmap_dst(vmap_dst(A).T).T"
   ]
  },
  {
   "cell_type": "code",
   "execution_count": 121,
   "metadata": {},
   "outputs": [
    {
     "data": {
      "text/plain": [
       "(4, 4)"
      ]
     },
     "execution_count": 121,
     "metadata": {},
     "output_type": "execute_result"
    }
   ],
   "source": [
    "i,j = 0,2\n",
    "dst_2d(K_tensor[i,j]).shape"
   ]
  },
  {
   "cell_type": "code",
   "execution_count": 162,
   "metadata": {},
   "outputs": [],
   "source": [
    "def test_function(A):\n",
    "    return A**2"
   ]
  },
  {
   "cell_type": "code",
   "execution_count": 163,
   "metadata": {},
   "outputs": [],
   "source": [
    "# Create a 4D tensor of size NxNxNxN\n",
    "N = 2\n",
    "tensor_4d = jnp.arange(N**4).reshape(N, N, N, N)"
   ]
  },
  {
   "cell_type": "code",
   "execution_count": 165,
   "metadata": {},
   "outputs": [
    {
     "data": {
      "text/plain": [
       "Array([[144, 169],\n",
       "       [196, 225]], dtype=int64)"
      ]
     },
     "execution_count": 165,
     "metadata": {},
     "output_type": "execute_result"
    }
   ],
   "source": [
    "test_function(tensor_4d[i,j])"
   ]
  },
  {
   "cell_type": "code",
   "execution_count": 142,
   "metadata": {},
   "outputs": [],
   "source": [
    "i, j = 1,2"
   ]
  },
  {
   "cell_type": "code",
   "execution_count": 157,
   "metadata": {},
   "outputs": [
    {
     "data": {
      "text/plain": [
       "Array([[-0.        , -0.        , -0.        , -0.        ],\n",
       "       [-0.        ,  0.42259911,  0.0607691 ,  0.06980065],\n",
       "       [-0.        ,  0.0607691 ,  0.01222958,  0.01028895],\n",
       "       [-0.        ,  0.06980065,  0.01028895,  0.01157917]],      dtype=float64)"
      ]
     },
     "execution_count": 157,
     "metadata": {},
     "output_type": "execute_result"
    }
   ],
   "source": [
    "K_trans_1 = vmap(vmap(dst_2d, in_axes=0), in_axes=1)(K_tensor)\n",
    "K_trans_1[i,j]"
   ]
  },
  {
   "cell_type": "code",
   "execution_count": 158,
   "metadata": {},
   "outputs": [
    {
     "name": "stdout",
     "output_type": "stream",
     "text": [
      "0.0\n",
      "0.0009441505943644007\n",
      "0.0024250106586377915\n",
      "0.004435435412704201\n",
      "0.0009441505943644007\n",
      "0.0\n",
      "0.00170036999000366\n",
      "0.0042339261556458285\n",
      "0.0024250106586377915\n",
      "0.00170036999000366\n",
      "0.0\n",
      "0.002913701354881224\n",
      "0.004435435412704201\n",
      "0.0042339261556458285\n",
      "0.002913701354881224\n",
      "0.0\n"
     ]
    }
   ],
   "source": [
    "for i in range(n_points):\n",
    "    for j in range(n_points):\n",
    "        print(jnp.mean(jnp.abs(K_trans_1[i,j]- dst_2d(K_tensor[i,j]))))\n",
    "        #print(jnp.allclose(K_trans_1[i,j],dst_2d(K_tensor[i,j])), )"
   ]
  },
  {
   "cell_type": "code",
   "execution_count": 159,
   "metadata": {},
   "outputs": [
    {
     "data": {
      "text/plain": [
       "Array([[-0.        , -0.        , -0.        , -0.        ],\n",
       "       [-0.        ,  0.23252324,  0.04097938,  0.04011494],\n",
       "       [-0.        , -0.04097938, -0.0007008 , -0.00590172],\n",
       "       [-0.        ,  0.04011494,  0.00590172,  0.00676482]],      dtype=float64)"
      ]
     },
     "execution_count": 159,
     "metadata": {},
     "output_type": "execute_result"
    }
   ],
   "source": [
    "K_trans_1 = vmap(vmap(dst_2d, in_axes = (1,)), in_axes = (0,))(K_tensor)\n",
    "K_trans_1[i,j]"
   ]
  },
  {
   "cell_type": "code",
   "execution_count": 160,
   "metadata": {},
   "outputs": [
    {
     "data": {
      "text/plain": [
       "Array([[-0.        , -0.        , -0.        , -0.        ],\n",
       "       [-0.        ,  0.42259911,  0.0607691 ,  0.06980065],\n",
       "       [-0.        ,  0.0607691 ,  0.01222958,  0.01028895],\n",
       "       [-0.        ,  0.06980065,  0.01028895,  0.01157917]],      dtype=float64)"
      ]
     },
     "execution_count": 160,
     "metadata": {},
     "output_type": "execute_result"
    }
   ],
   "source": [
    "dst_2d(K_tensor[i,j])"
   ]
  },
  {
   "cell_type": "code",
   "execution_count": 161,
   "metadata": {},
   "outputs": [
    {
     "name": "stdout",
     "output_type": "stream",
     "text": [
      "0.016418072364128768\n",
      "0.008168984022508527\n",
      "0.009211634580691167\n",
      "0.015271417379853745\n",
      "0.0202497744450224\n",
      "0.010506645412480833\n",
      "0.01133266660321496\n",
      "0.019321258777553463\n",
      "0.023433988186899887\n",
      "0.012817075585627153\n",
      "0.01307937137625481\n",
      "0.023099955117342013\n",
      "0.02489168104543778\n",
      "0.014555921705814776\n",
      "0.01385987559621819\n",
      "0.025581757110357678\n"
     ]
    }
   ],
   "source": [
    "for i in range(n_points):\n",
    "    for j in range(n_points):\n",
    "        print(jnp.mean(jnp.abs(K_trans_1[i,j]- dst_2d(K_tensor[i,j]))))\n",
    "        #print(jnp.allclose(K_trans_1[i,j],dst_2d(K_tensor[i,j])), )"
   ]
  },
  {
   "cell_type": "code",
   "execution_count": 67,
   "metadata": {},
   "outputs": [],
   "source": [
    "tensor_sine_transform = vectorize_function(discrete_sine_transform, 4)"
   ]
  },
  {
   "cell_type": "code",
   "execution_count": 81,
   "metadata": {},
   "outputs": [],
   "source": [
    "tensor_sine_transform = vmap(vmap(vmap(discrete_sine_transform)))"
   ]
  },
  {
   "cell_type": "code",
   "execution_count": 89,
   "metadata": {},
   "outputs": [],
   "source": [
    "tensor_sine_transform = vmap(discrete_sine_transform)"
   ]
  },
  {
   "cell_type": "code",
   "execution_count": 90,
   "metadata": {},
   "outputs": [
    {
     "data": {
      "text/plain": [
       "Array([[-0.        ,  0.30190417,  0.0504235 ,  0.05146831],\n",
       "       [-0.        ,  0.23259504,  0.03608084,  0.03939931],\n",
       "       [-0.        ,  0.17326523,  0.02496178,  0.02921281],\n",
       "       [-0.        ,  0.12555461,  0.01682743,  0.02109987]],      dtype=float64)"
      ]
     },
     "execution_count": 90,
     "metadata": {},
     "output_type": "execute_result"
    }
   ],
   "source": [
    "tensor_sine_transform(K_tensor[i,j])"
   ]
  },
  {
   "cell_type": "code",
   "execution_count": 82,
   "metadata": {},
   "outputs": [
    {
     "data": {
      "text/plain": [
       "(4, 4, 4, 4)"
      ]
     },
     "execution_count": 82,
     "metadata": {},
     "output_type": "execute_result"
    }
   ],
   "source": [
    "K_tensor.shape"
   ]
  },
  {
   "cell_type": "code",
   "execution_count": 83,
   "metadata": {},
   "outputs": [],
   "source": [
    "K_transformed = tensor_sine_transform(K_tensor)"
   ]
  },
  {
   "cell_type": "code",
   "execution_count": 86,
   "metadata": {},
   "outputs": [
    {
     "data": {
      "text/plain": [
       "Array([[[[-0.        ,  0.1870605 ,  0.04298894,  0.03420684],\n",
       "         [-0.        ,  0.14843572,  0.03231707,  0.02682937],\n",
       "         [-0.        ,  0.11375217,  0.02339077,  0.02034504],\n",
       "         [-0.        ,  0.08463736,  0.01641859,  0.01500015]],\n",
       "\n",
       "        [[-0.        ,  0.24230867,  0.0487911 ,  0.04286009],\n",
       "         [-0.        ,  0.18942345,  0.03579469,  0.03317524],\n",
       "         [-0.        ,  0.14306054,  0.02532264,  0.02484872],\n",
       "         [-0.        ,  0.10498727,  0.01740876,  0.01811432]],\n",
       "\n",
       "        [[-0.        ,  0.30190417,  0.0504235 ,  0.05146831],\n",
       "         [-0.        ,  0.23259504,  0.03608084,  0.03939931],\n",
       "         [-0.        ,  0.17326523,  0.02496178,  0.02921281],\n",
       "         [-0.        ,  0.12555461,  0.01682743,  0.02109987]],\n",
       "\n",
       "        [[-0.        ,  0.35927939,  0.04532089,  0.05898382],\n",
       "         [-0.        ,  0.273218  ,  0.0316827 ,  0.04480812],\n",
       "         [-0.        ,  0.20112159,  0.0214868 ,  0.03298622],\n",
       "         [-0.        ,  0.14419502,  0.01424179,  0.02366721]]],\n",
       "\n",
       "\n",
       "       [[[-0.        ,  0.22627157,  0.05457328,  0.04187709],\n",
       "         [-0.        ,  0.1870605 ,  0.04298894,  0.03420684],\n",
       "         [-0.        ,  0.14843572,  0.03231707,  0.02682937],\n",
       "         [-0.        ,  0.11375217,  0.02339077,  0.02034504]],\n",
       "\n",
       "        [[-0.        ,  0.29737045,  0.06348738,  0.05318744],\n",
       "         [-0.        ,  0.24230867,  0.0487911 ,  0.04286009],\n",
       "         [-0.        ,  0.18942345,  0.03579469,  0.03317524],\n",
       "         [-0.        ,  0.14306054,  0.02532264,  0.02484872]],\n",
       "\n",
       "        [[-0.        ,  0.37600067,  0.06739093,  0.06463143],\n",
       "         [-0.        ,  0.30190417,  0.0504235 ,  0.05146831],\n",
       "         [-0.        ,  0.23259504,  0.03608084,  0.03939931],\n",
       "         [-0.        ,  0.17326523,  0.02496178,  0.02921281]],\n",
       "\n",
       "        [[-0.        ,  0.45363914,  0.06220474,  0.07467426],\n",
       "         [-0.        ,  0.35927939,  0.04532089,  0.05898382],\n",
       "         [-0.        ,  0.273218  ,  0.0316827 ,  0.04480812],\n",
       "         [-0.        ,  0.20112159,  0.0214868 ,  0.03298622]]],\n",
       "\n",
       "\n",
       "       [[[-0.        ,  0.26098451,  0.06544786,  0.04883374],\n",
       "         [-0.        ,  0.22627157,  0.05457328,  0.04187709],\n",
       "         [-0.        ,  0.1870605 ,  0.04298894,  0.03420684],\n",
       "         [-0.        ,  0.14843572,  0.03231707,  0.02682937]],\n",
       "\n",
       "        [[-0.        ,  0.34733703,  0.07787022,  0.06281459],\n",
       "         [-0.        ,  0.29737045,  0.06348738,  0.05318744],\n",
       "         [-0.        ,  0.24230867,  0.0487911 ,  0.04286009],\n",
       "         [-0.        ,  0.18942345,  0.03579469,  0.03317524]],\n",
       "\n",
       "        [[-0.        ,  0.44513215,  0.08485111,  0.07724094],\n",
       "         [-0.        ,  0.37600067,  0.06739093,  0.06463143],\n",
       "         [-0.        ,  0.30190417,  0.0504235 ,  0.05146831],\n",
       "         [-0.        ,  0.23259504,  0.03608084,  0.03939931]],\n",
       "\n",
       "        [[-0.        ,  0.54422561,  0.0805747 ,  0.09000096],\n",
       "         [-0.        ,  0.45363914,  0.06220474,  0.07467426],\n",
       "         [-0.        ,  0.35927939,  0.04532089,  0.05898382],\n",
       "         [-0.        ,  0.273218  ,  0.0316827 ,  0.04480812]]],\n",
       "\n",
       "\n",
       "       [[[-0.        ,  0.28523075,  0.07338936,  0.05379438],\n",
       "         [-0.        ,  0.26098451,  0.06544786,  0.04883374],\n",
       "         [-0.        ,  0.22627157,  0.05457328,  0.04187709],\n",
       "         [-0.        ,  0.1870605 ,  0.04298894,  0.03420684]],\n",
       "\n",
       "        [[-0.        ,  0.38297429,  0.0887644 ,  0.06985797],\n",
       "         [-0.        ,  0.34733703,  0.07787022,  0.06281459],\n",
       "         [-0.        ,  0.29737045,  0.06348738,  0.05318744],\n",
       "         [-0.        ,  0.24230867,  0.0487911 ,  0.04286009]],\n",
       "\n",
       "        [[-0.        ,  0.4957084 ,  0.09873918,  0.08674324],\n",
       "         [-0.        ,  0.44513215,  0.08485111,  0.07724094],\n",
       "         [-0.        ,  0.37600067,  0.06739093,  0.06463143],\n",
       "         [-0.        ,  0.30190417,  0.0504235 ,  0.05146831]],\n",
       "\n",
       "        [[-0.        ,  0.61245489,  0.09613189,  0.10186021],\n",
       "         [-0.        ,  0.54422561,  0.0805747 ,  0.09000096],\n",
       "         [-0.        ,  0.45363914,  0.06220474,  0.07467426],\n",
       "         [-0.        ,  0.35927939,  0.04532089,  0.05898382]]]],      dtype=float64)"
      ]
     },
     "execution_count": 86,
     "metadata": {},
     "output_type": "execute_result"
    }
   ],
   "source": [
    "K_transformed"
   ]
  }
 ],
 "metadata": {
  "kernelspec": {
   "display_name": "jax_cpu",
   "language": "python",
   "name": "python3"
  },
  "language_info": {
   "codemirror_mode": {
    "name": "ipython",
    "version": 3
   },
   "file_extension": ".py",
   "mimetype": "text/x-python",
   "name": "python",
   "nbconvert_exporter": "python",
   "pygments_lexer": "ipython3",
   "version": "3.12.3"
  }
 },
 "nbformat": 4,
 "nbformat_minor": 2
}
