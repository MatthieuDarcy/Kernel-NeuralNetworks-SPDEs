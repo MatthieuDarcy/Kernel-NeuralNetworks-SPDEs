{
 "cells": [
  {
   "cell_type": "code",
   "execution_count": null,
   "metadata": {},
   "outputs": [],
   "source": [
    "from jax.config import config\n",
    "config.update(\"jax_enable_x64\", True)\n",
    "\n",
    "import jax.numpy as jnp\n",
    "from jax import random, vmap, jit, grad\n",
    "import jax.scipy as scipy\n",
    "\n",
    "\n",
    "\n",
    "\n",
    "import matplotlib.pyplot as plt\n",
    "\n",
    "from utils_rough_pde import *\n",
    "from utils_elliptic_coef import *\n",
    "\n",
    "import time\n",
    "\n",
    "from tqdm import tqdm\n"
   ]
  },
  {
   "cell_type": "code",
   "execution_count": null,
   "metadata": {},
   "outputs": [],
   "source": [
    "# Define the domain of the problem\n",
    "lower = 0.0\n",
    "upper = 1.0\n",
    "L = upper - lower\n",
    "x = jnp.linspace(0, 1, 1000)\n",
    "boundary = jnp.array([[lower, upper]]).T\n",
    "boundary_conditions = jnp.zeros(shape = (2, )) # Dirichlet boundary conditions\n",
    "domain = jnp.array([lower, upper])"
   ]
  }
 ],
 "metadata": {
  "language_info": {
   "name": "python"
  }
 },
 "nbformat": 4,
 "nbformat_minor": 2
}
