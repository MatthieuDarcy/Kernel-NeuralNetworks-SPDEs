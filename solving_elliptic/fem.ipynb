{
 "cells": [
  {
   "cell_type": "code",
   "execution_count": 1,
   "metadata": {},
   "outputs": [
    {
     "name": "stderr",
     "output_type": "stream",
     "text": [
      "/tmp/ipykernel_3358932/2806640137.py:1: DeprecationWarning: Accessing jax.config via the jax.config submodule is deprecated.\n",
      "  from jax.config import config\n"
     ]
    }
   ],
   "source": [
    "from jax.config import config\n",
    "config.update(\"jax_enable_x64\", True)\n",
    "\n",
    "import jax.numpy as jnp\n",
    "from jax import random, vmap, jit, grad\n",
    "import jax.scipy as scipy\n",
    "\n",
    "\n",
    "\n",
    "\n",
    "import matplotlib.pyplot as plt\n",
    "\n",
    "from utils_rough_pde import *\n",
    "from utils_elliptic_coef import *\n",
    "\n",
    "import time\n",
    "\n",
    "from tqdm import tqdm\n"
   ]
  },
  {
   "cell_type": "code",
   "execution_count": 2,
   "metadata": {},
   "outputs": [
    {
     "name": "stderr",
     "output_type": "stream",
     "text": [
      "An NVIDIA GPU may be present on this machine, but a CUDA-enabled jaxlib is not installed. Falling back to cpu.\n"
     ]
    }
   ],
   "source": [
    "# Define the domain of the problem\n",
    "lower = 0.0\n",
    "upper = 1.0\n",
    "L = upper - lower\n",
    "x = jnp.linspace(0, 1, 1000)\n",
    "boundary = jnp.array([[lower, upper]]).T\n",
    "boundary_conditions = jnp.zeros(shape = (2, )) # Dirichlet boundary conditions\n",
    "domain = jnp.array([lower, upper])"
   ]
  },
  {
   "cell_type": "code",
   "execution_count": 3,
   "metadata": {},
   "outputs": [
    {
     "data": {
      "text/plain": [
       "8"
      ]
     },
     "execution_count": 3,
     "metadata": {},
     "output_type": "execute_result"
    }
   ],
   "source": [
    "n_meas = 2**3\n",
    "n_quad = 5\n",
    "n_meas"
   ]
  },
  {
   "cell_type": "code",
   "execution_count": 4,
   "metadata": {},
   "outputs": [],
   "source": [
    "epsilon = (upper- lower)/n_meas"
   ]
  },
  {
   "cell_type": "code",
   "execution_count": 5,
   "metadata": {},
   "outputs": [],
   "source": [
    "centers = jnp.linspace(lower, upper, n_meas + 1)\n",
    "epsilon = (upper - lower)/n_meas\n",
    "epsilon_values  = jnp.ones(n_meas)*epsilon\n",
    "intervals = jnp.array([centers[:-1], centers[1:]]).T"
   ]
  },
  {
   "cell_type": "code",
   "execution_count": 6,
   "metadata": {},
   "outputs": [],
   "source": [
    "from utils_rough_pde import vmap_root_interval\n",
    "from scipy.special import roots_legendre"
   ]
  },
  {
   "cell_type": "code",
   "execution_count": 7,
   "metadata": {},
   "outputs": [],
   "source": [
    "x_q, w_q = roots_legendre(n_quad)\n",
    "x_element, w_element = root_interval(x_q, w_q, jnp.array([0, 1]))\n",
    "x_quad, w_quad = vmap_root_interval(x_q, w_q, intervals)"
   ]
  },
  {
   "cell_type": "code",
   "execution_count": 8,
   "metadata": {},
   "outputs": [],
   "source": [
    "# def tent_element(x, epsilon, interval):\n",
    "#     lower, upper = interval\n",
    "#     element = jnp.maximum(0, 1 + (x - upper) / epsilon)/epsilon#jnp.maximum(0, 1 - (x - lower) / epsilon)/epsilon\n",
    "    \n",
    "\n",
    "#     # Set the element to zero outside the interval\n",
    "#     element = jnp.where(x < lower, 0.0, element)\n",
    "#     element = jnp.where(x > upper, 0.0, element)\n",
    "\n",
    "#     return element"
   ]
  },
  {
   "cell_type": "code",
   "execution_count": 9,
   "metadata": {},
   "outputs": [],
   "source": [
    "# x = jnp.linspace(0, 1, 1000)\n",
    "# element= tent_element(x, epsilon, intervals[0])\n",
    "\n",
    "# plt.plot(x, element, label = 'element')\n",
    "# plt.legend()"
   ]
  },
  {
   "cell_type": "code",
   "execution_count": 11,
   "metadata": {},
   "outputs": [],
   "source": [
    "# The fundamental element\n",
    "def tent_element(x, normalization = 1.0):\n",
    "    \n",
    "    element = jnp.maximum(0, 1 + (x - 1) )\n",
    "    \n",
    "\n",
    "    # Set the element to zero outside the interval\n",
    "    element = jnp.where(x < 0.0, 0.0, element)\n",
    "    element = jnp.where(x > 1.0, 0.0, element)\n",
    "\n",
    "    return element/normalization"
   ]
  },
  {
   "cell_type": "code",
   "execution_count": 15,
   "metadata": {},
   "outputs": [
    {
     "data": {
      "text/plain": [
       "(Array([0.37528062, 1.84612276, 4.        , 6.15387724, 7.62471938],      dtype=float64),\n",
       " Array([0.        , 0.11111111, 0.22222222, 0.33333333, 0.44444444,\n",
       "        0.55555556, 0.66666667, 0.77777778, 0.88888889, 1.        ],      dtype=float64))"
      ]
     },
     "execution_count": 15,
     "metadata": {},
     "output_type": "execute_result"
    }
   ],
   "source": [
    "tent_element(x_element, normalization = epsilon), tent_element(jnp.linspace(0,1,10))"
   ]
  },
  {
   "cell_type": "code",
   "execution_count": 16,
   "metadata": {},
   "outputs": [],
   "source": [
    "def f(x):\n",
    "    return jnp.sin(jnp.pi*x)"
   ]
  },
  {
   "cell_type": "code",
   "execution_count": 17,
   "metadata": {},
   "outputs": [
    {
     "data": {
      "text/plain": [
       "Array([[0.00586376, 0.02884567, 0.0625    , 0.09615433, 0.11913624],\n",
       "       [0.13086376, 0.15384567, 0.1875    , 0.22115433, 0.24413624],\n",
       "       [0.25586376, 0.27884567, 0.3125    , 0.34615433, 0.36913624],\n",
       "       [0.38086376, 0.40384567, 0.4375    , 0.47115433, 0.49413624],\n",
       "       [0.50586376, 0.52884567, 0.5625    , 0.59615433, 0.61913624],\n",
       "       [0.63086376, 0.65384567, 0.6875    , 0.72115433, 0.74413624],\n",
       "       [0.75586376, 0.77884567, 0.8125    , 0.84615433, 0.86913624],\n",
       "       [0.88086376, 0.90384567, 0.9375    , 0.97115433, 0.99413624]],      dtype=float64)"
      ]
     },
     "execution_count": 17,
     "metadata": {},
     "output_type": "execute_result"
    }
   ],
   "source": [
    "x_quad"
   ]
  },
  {
   "cell_type": "code",
   "execution_count": 65,
   "metadata": {},
   "outputs": [],
   "source": [
    "def f(x):\n",
    "    return jnp.sin(4*jnp.pi*x)\n",
    "\n",
    "def f(x):\n",
    "    return x**3 -1 -x + 0.02*jnp.sin(2*jnp.pi*x)"
   ]
  },
  {
   "cell_type": "code",
   "execution_count": 66,
   "metadata": {},
   "outputs": [
    {
     "data": {
      "text/plain": [
       "[<matplotlib.lines.Line2D at 0x7fc13c2b8dd0>]"
      ]
     },
     "execution_count": 66,
     "metadata": {},
     "output_type": "execute_result"
    },
    {
     "data": {
      "image/png": "[encoded data removed]",
      "text/plain": [
       "<Figure size 640x480 with 1 Axes>"
      ]
     },
     "metadata": {},
     "output_type": "display_data"
    }
   ],
   "source": [
    "f_quad = f(x_quad)\n",
    "\n",
    "x = jnp.linspace(0, 1, 1000)\n",
    "plt.plot(f(x))"
   ]
  },
  {
   "cell_type": "code",
   "execution_count": 67,
   "metadata": {},
   "outputs": [],
   "source": [
    "def project_tent_basis(f, element, w_quad, include_boundary):\n",
    "\n",
    "    F_1 = jnp.sum(f*element*w_quad, axis = 1)\n",
    "    F_2 = jnp.sum(f*element[::-1]*w_quad, axis = 1)\n",
    "\n",
    "    if include_boundary:\n",
    "        result = jnp.hstack([F_2[0], F_1[:-1] + F_2[1:], F_1[-1]])\n",
    "    else:\n",
    "        result = F_1[:-1] + F_2[1:]\n",
    "\n",
    "    return result"
   ]
  },
  {
   "cell_type": "code",
   "execution_count": 68,
   "metadata": {},
   "outputs": [],
   "source": [
    "element_quad = tent_element(x_element, normalization = epsilon)"
   ]
  },
  {
   "cell_type": "code",
   "execution_count": 69,
   "metadata": {},
   "outputs": [
    {
     "data": {
      "text/plain": [
       "Array([-0.51819725, -1.10864036, -1.21342905, -1.30590598, -1.37109375,\n",
       "       -1.38940652, -1.34125845, -1.21167214, -0.5403965 ], dtype=float64)"
      ]
     },
     "execution_count": 69,
     "metadata": {},
     "output_type": "execute_result"
    }
   ],
   "source": [
    "project_tent_basis(f_quad, element_quad, w_quad, True)"
   ]
  },
  {
   "cell_type": "code",
   "execution_count": 70,
   "metadata": {},
   "outputs": [
    {
     "data": {
      "text/plain": [
       "(Array(-0.51819725, dtype=float64), Array(-0.5403965, dtype=float64))"
      ]
     },
     "execution_count": 70,
     "metadata": {},
     "output_type": "execute_result"
    }
   ],
   "source": [
    "jnp.sum(f_quad[0]*element_quad[::-1]*w_quad[0], axis = -1), jnp.sum(f_quad[-1]*element_quad*w_quad[-1], axis = -1)"
   ]
  },
  {
   "cell_type": "code",
   "execution_count": 71,
   "metadata": {},
   "outputs": [
    {
     "data": {
      "text/plain": [
       "Array(-1.30590598, dtype=float64)"
      ]
     },
     "execution_count": 71,
     "metadata": {},
     "output_type": "execute_result"
    }
   ],
   "source": [
    "i = 2\n",
    "jnp.sum(f_quad[i]*element_quad*w_quad[i], axis = -1)+ jnp.sum(f_quad[i+1]*element_quad[::-1]*w_quad[i+1], axis = -1)"
   ]
  },
  {
   "cell_type": "code",
   "execution_count": 72,
   "metadata": {},
   "outputs": [],
   "source": [
    "from scipy import integrate"
   ]
  },
  {
   "cell_type": "code",
   "execution_count": 73,
   "metadata": {},
   "outputs": [
    {
     "data": {
      "text/plain": [
       "(-1.3059059828054878, 1.454392162258955e-14)"
      ]
     },
     "execution_count": 73,
     "metadata": {},
     "output_type": "execute_result"
    }
   ],
   "source": [
    "def tent_function(x, epsilon, center):\n",
    "    return jnp.maximum(0, 1 - jnp.abs(x - center) / epsilon)/epsilon\n",
    "\n",
    "\n",
    "i = 3\n",
    "f_integrate = lambda x: f(x)*tent_function(x, epsilon, centers[i])\n",
    "integrate.quad(f_integrate, centers[i-1], centers[i+1])"
   ]
  },
  {
   "cell_type": "code",
   "execution_count": 74,
   "metadata": {},
   "outputs": [
    {
     "data": {
      "text/plain": [
       "(-0.5181972529186603, 5.7531452148780225e-15)"
      ]
     },
     "execution_count": 74,
     "metadata": {},
     "output_type": "execute_result"
    }
   ],
   "source": [
    "i = 1\n",
    "f_integrate = lambda x: f(x)*tent_function(x, epsilon, centers[i-1])\n",
    "integrate.quad(f_integrate, centers[i-1], centers[i])"
   ]
  },
  {
   "cell_type": "code",
   "execution_count": 75,
   "metadata": {},
   "outputs": [
    {
     "data": {
      "text/plain": [
       "(-0.5403964970813396, 5.999606334864845e-15)"
      ]
     },
     "execution_count": 75,
     "metadata": {},
     "output_type": "execute_result"
    }
   ],
   "source": [
    "i = 8\n",
    "f_integrate = lambda x: f(x)*tent_function(x, epsilon, centers[i])\n",
    "integrate.quad(f_integrate, centers[i-1], centers[i])"
   ]
  },
  {
   "cell_type": "code",
   "execution_count": 78,
   "metadata": {},
   "outputs": [
    {
     "data": {
      "text/plain": [
       "Array([-0.51819725, -1.10864036, -1.21342905, -1.30590598, -1.37109375,\n",
       "       -1.38940652, -1.34125845, -1.21167214, -0.5403965 ], dtype=float64)"
      ]
     },
     "execution_count": 78,
     "metadata": {},
     "output_type": "execute_result"
    }
   ],
   "source": [
    "project_tent_basis(f_quad, element_quad, w_quad, True)"
   ]
  },
  {
   "cell_type": "code",
   "execution_count": 77,
   "metadata": {},
   "outputs": [
    {
     "data": {
      "text/plain": [
       "Array([0.   , 0.125, 0.25 , 0.375, 0.5  , 0.625, 0.75 , 0.875, 1.   ],      dtype=float64)"
      ]
     },
     "execution_count": 77,
     "metadata": {},
     "output_type": "execute_result"
    }
   ],
   "source": [
    "centers"
   ]
  },
  {
   "cell_type": "code",
   "execution_count": null,
   "metadata": {},
   "outputs": [],
   "source": []
  }
 ],
 "metadata": {
  "kernelspec": {
   "display_name": "jax_cpu",
   "language": "python",
   "name": "python3"
  },
  "language_info": {
   "codemirror_mode": {
    "name": "ipython",
    "version": 3
   },
   "file_extension": ".py",
   "mimetype": "text/x-python",
   "name": "python",
   "nbconvert_exporter": "python",
   "pygments_lexer": "ipython3",
   "version": "3.11.7"
  }
 },
 "nbformat": 4,
 "nbformat_minor": 2
}
