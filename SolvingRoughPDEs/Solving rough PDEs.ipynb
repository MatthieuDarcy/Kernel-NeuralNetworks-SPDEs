{
 "cells": [
  {
   "cell_type": "code",
   "execution_count": 1,
   "id": "c02a7cc5",
   "metadata": {},
   "outputs": [],
   "source": [
    "import jax.numpy as jnp\n",
    "import matplotlib.pyplot as plt\n",
    "plt.style.use(\"seaborn\")"
   ]
  },
  {
   "cell_type": "code",
   "execution_count": 2,
   "id": "25fb4166",
   "metadata": {},
   "outputs": [],
   "source": [
    "def compute_pairwise_norm(x,y):\n",
    "    \n",
    "    diff = (x[:, None, :] - y[None, :, :])\n",
    "    \n",
    "    norm  = np.linalg.norm(diff, axis = -1)\n",
    "    \n",
    "    return norm\n",
    "\n",
    "def gaussian_kernel(matrix_1, matrix_2, l):\n",
    "    \n",
    "    diff = compute_pairwise_norm(matrix_1,matrix_2)\n",
    "    \n",
    "    return np.exp(-diff**2/(2*l**2))\n",
    "\n",
    "def matern_kernel_5(matrix_1, matrix_2, l):\n",
    "    \n",
    "    d = compute_pairwise_norm(matrix_1,matrix_2)\n",
    "    return (1 + jnp.sqrt(5)*d/l + 5/3*d**2/l**2)*jnp.exp(-jnp.sqrt(5)*d/l)\n",
    "\n",
    "def matern_kernel_3(matrix_1, matrix_2, l):\n",
    "    \n",
    "    d = compute_pairwise_norm(matrix_1,matrix_2)\n",
    "    return (1 + jnp.sqrt(3)*d/l )*jnp.exp(-jnp.sqrt(3)*d/l)"
   ]
  },
  {
   "cell_type": "markdown",
   "id": "fb77dea4",
   "metadata": {},
   "source": [
    "# To be done\n",
    "\n",
    "See the overleaf for a description of the algorithm (section \"An algorithm for solving non-linear rough PDEs\").\n",
    "\n",
    "1. Generate data for the PDE.  \n",
    "2. Implement the iterative algorithm:  \n",
    "    1.1 Routine to construct A and c.  \n",
    "    1.2 A routine to solve the inner optimization problem.  \n",
    "    1.3 General routines to track convergence, plot the solution etc.\n",
    "    "
   ]
  },
  {
   "cell_type": "code",
   "execution_count": null,
   "id": "67677f1b",
   "metadata": {},
   "outputs": [],
   "source": []
  }
 ],
 "metadata": {
  "kernelspec": {
   "display_name": "Python 3 (ipykernel)",
   "language": "python",
   "name": "python3"
  },
  "language_info": {
   "codemirror_mode": {
    "name": "ipython",
    "version": 3
   },
   "file_extension": ".py",
   "mimetype": "text/x-python",
   "name": "python",
   "nbconvert_exporter": "python",
   "pygments_lexer": "ipython3",
   "version": "3.9.12"
  }
 },
 "nbformat": 4,
 "nbformat_minor": 5
}
