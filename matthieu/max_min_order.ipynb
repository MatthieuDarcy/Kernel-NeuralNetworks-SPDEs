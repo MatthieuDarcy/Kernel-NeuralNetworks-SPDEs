{
 "cells": [
  {
   "cell_type": "code",
   "execution_count": 1,
   "metadata": {},
   "outputs": [],
   "source": [
    "import jax.numpy as jnp\n",
    "\n",
    "from scipy.spatial.distance import pdist\n",
    "from scipy.spatial.distance import squareform\n"
   ]
  },
  {
   "cell_type": "code",
   "execution_count": 27,
   "metadata": {},
   "outputs": [],
   "source": [
    "\n",
    "\n",
    "def build_min_max_ordering(array):\n",
    "    \n",
    "    order = []\n",
    "\n",
    "    def split(array):\n",
    "        if len(array) == 2:\n",
    "            order.append(array[0])\n",
    "            order.append(array[1])\n",
    "        elif len(array) == 1:\n",
    "            order.append(array[0])\n",
    "        else:\n",
    "            mid_point = len(array) // 2\n",
    "            array_1 = array[:mid_point]\n",
    "            array_2 = array[mid_point+1:]\n",
    "            #print(array_1, array_2)\n",
    "            order.append(array[mid_point])\n",
    "            split(array_1)\n",
    "            split(array_2)\n",
    "\n",
    "    split(array)\n",
    "\n",
    "\n",
    "    return order\n"
   ]
  },
  {
   "cell_type": "code",
   "execution_count": 32,
   "metadata": {},
   "outputs": [],
   "source": [
    "X = jnp.arange(10)[:, None]"
   ]
  },
  {
   "cell_type": "code",
   "execution_count": 46,
   "metadata": {},
   "outputs": [
    {
     "data": {
      "text/plain": [
       "(10, 10)"
      ]
     },
     "execution_count": 46,
     "metadata": {},
     "output_type": "execute_result"
    }
   ],
   "source": [
    "dist_matrix = squareform(pdist(X))\n",
    "\n",
    "dist_matrix.shape"
   ]
  },
  {
   "cell_type": "code",
   "execution_count": 51,
   "metadata": {},
   "outputs": [
    {
     "name": "stdout",
     "output_type": "stream",
     "text": [
      "[[0. 1. 2. 3. 5. 6. 7. 8. 9.]\n",
      " [1. 0. 1. 2. 4. 5. 6. 7. 8.]\n",
      " [2. 1. 0. 1. 3. 4. 5. 6. 7.]\n",
      " [3. 2. 1. 0. 2. 3. 4. 5. 6.]\n",
      " [5. 4. 3. 2. 0. 1. 2. 3. 4.]\n",
      " [6. 5. 4. 3. 1. 0. 1. 2. 3.]\n",
      " [7. 6. 5. 4. 2. 1. 0. 1. 2.]\n",
      " [8. 7. 6. 5. 3. 2. 1. 0. 1.]\n",
      " [9. 8. 7. 6. 4. 3. 2. 1. 0.]]\n",
      "[[0. 1. 2. 3. 6. 7. 8. 9.]\n",
      " [1. 0. 1. 2. 5. 6. 7. 8.]\n",
      " [2. 1. 0. 1. 4. 5. 6. 7.]\n",
      " [3. 2. 1. 0. 3. 4. 5. 6.]\n",
      " [6. 5. 4. 3. 0. 1. 2. 3.]\n",
      " [7. 6. 5. 4. 1. 0. 1. 2.]\n",
      " [8. 7. 6. 5. 2. 1. 0. 1.]\n",
      " [9. 8. 7. 6. 3. 2. 1. 0.]]\n",
      "[[0. 1. 2. 6. 7. 8. 9.]\n",
      " [1. 0. 1. 5. 6. 7. 8.]\n",
      " [2. 1. 0. 4. 5. 6. 7.]\n",
      " [6. 5. 4. 0. 1. 2. 3.]\n",
      " [7. 6. 5. 1. 0. 1. 2.]\n",
      " [8. 7. 6. 2. 1. 0. 1.]\n",
      " [9. 8. 7. 3. 2. 1. 0.]]\n",
      "[[0. 1. 2. 7. 8. 9.]\n",
      " [1. 0. 1. 6. 7. 8.]\n",
      " [2. 1. 0. 5. 6. 7.]\n",
      " [7. 6. 5. 0. 1. 2.]\n",
      " [8. 7. 6. 1. 0. 1.]\n",
      " [9. 8. 7. 2. 1. 0.]]\n",
      "[[0. 1. 7. 8. 9.]\n",
      " [1. 0. 6. 7. 8.]\n",
      " [7. 6. 0. 1. 2.]\n",
      " [8. 7. 1. 0. 1.]\n",
      " [9. 8. 2. 1. 0.]]\n",
      "[[0. 1. 8. 9.]\n",
      " [1. 0. 7. 8.]\n",
      " [8. 7. 0. 1.]\n",
      " [9. 8. 1. 0.]]\n",
      "[[0. 8. 9.]\n",
      " [8. 0. 1.]\n",
      " [9. 1. 0.]]\n",
      "[[0. 9.]\n",
      " [9. 0.]]\n",
      "[[0.]]\n",
      "[]\n"
     ]
    }
   ],
   "source": [
    "max_min_order = []\n",
    "X_duplicate = jnp.copy(X)\n",
    "dist_matrix = squareform(pdist(X))\n",
    "for i in range(10):\n",
    "    # Select the point with the lowest average distance to all other points\n",
    "    min_index = jnp.argmin(jnp.mean(dist_matrix, axis = 1))\n",
    "    max_min_order.append(X_duplicate[min_index])\n",
    "\n",
    "    # Remove the selected point from the distance matrix\n",
    "    dist_matrix = jnp.delete(dist_matrix, min_index, axis = 0)\n",
    "    dist_matrix = jnp.delete(dist_matrix, min_index, axis = 1)\n",
    "\n",
    "\n",
    "    # Remove the selected point from the list of points\n",
    "    X_duplicate = jnp.delete(X_duplicate, min_index, axis = 0)\n",
    "\n"
   ]
  },
  {
   "cell_type": "code",
   "execution_count": 49,
   "metadata": {},
   "outputs": [
    {
     "data": {
      "text/plain": [
       "Array([[4],\n",
       "       [5],\n",
       "       [3],\n",
       "       [6],\n",
       "       [2],\n",
       "       [7],\n",
       "       [1],\n",
       "       [8],\n",
       "       [0],\n",
       "       [9]], dtype=int32)"
      ]
     },
     "execution_count": 49,
     "metadata": {},
     "output_type": "execute_result"
    }
   ],
   "source": [
    "max_min_order = jnp.array(max_min_order)\n",
    "max_min_order"
   ]
  },
  {
   "cell_type": "code",
   "execution_count": 35,
   "metadata": {},
   "outputs": [
    {
     "data": {
      "text/plain": [
       "[Array(5, dtype=int32),\n",
       " Array(2, dtype=int32),\n",
       " Array(0, dtype=int32),\n",
       " Array(1, dtype=int32),\n",
       " Array(3, dtype=int32),\n",
       " Array(4, dtype=int32),\n",
       " Array(8, dtype=int32),\n",
       " Array(6, dtype=int32),\n",
       " Array(7, dtype=int32),\n",
       " Array(9, dtype=int32)]"
      ]
     },
     "execution_count": 35,
     "metadata": {},
     "output_type": "execute_result"
    }
   ],
   "source": [
    "build_min_max_ordering(jnp.arange(10))"
   ]
  },
  {
   "cell_type": "code",
   "execution_count": 8,
   "metadata": {},
   "outputs": [
    {
     "data": {
      "text/plain": [
       "(Array([0, 1, 2, 3, 4], dtype=int32), Array([6, 7, 8, 9], dtype=int32))"
      ]
     },
     "execution_count": 8,
     "metadata": {},
     "output_type": "execute_result"
    }
   ],
   "source": [
    "a = jnp.arange(10)\n",
    "mid_point = 5\n",
    "a_1 = a[:mid_point]\n",
    "a_2= a[mid_point+1:]\n",
    "\n",
    "a_1, a_2"
   ]
  },
  {
   "cell_type": "code",
   "execution_count": null,
   "metadata": {},
   "outputs": [],
   "source": []
  },
  {
   "cell_type": "code",
   "execution_count": 73,
   "metadata": {},
   "outputs": [],
   "source": []
  },
  {
   "cell_type": "code",
   "execution_count": 72,
   "metadata": {},
   "outputs": [
    {
     "data": {
      "text/plain": [
       "(10, 10)"
      ]
     },
     "execution_count": 72,
     "metadata": {},
     "output_type": "execute_result"
    }
   ],
   "source": [
    "\n",
    "\n",
    "dist_matrix.shape"
   ]
  },
  {
   "cell_type": "code",
   "execution_count": 74,
   "metadata": {},
   "outputs": [
    {
     "data": {
      "text/plain": [
       "(100,)"
      ]
     },
     "execution_count": 74,
     "metadata": {},
     "output_type": "execute_result"
    }
   ],
   "source": [
    "X.shape"
   ]
  },
  {
   "cell_type": "code",
   "execution_count": 75,
   "metadata": {},
   "outputs": [
    {
     "data": {
      "text/plain": [
       "Array([0.        , 0.01010101, 0.02020202, 0.03030303, 0.04040404,\n",
       "       0.05050505, 0.06060606, 0.07070707, 0.08080808, 0.09090909,\n",
       "       0.1010101 , 0.11111111, 0.12121212, 0.13131313, 0.14141414,\n",
       "       0.15151516, 0.16161616, 0.17171717, 0.18181819, 0.1919192 ,\n",
       "       0.2020202 , 0.21212122, 0.22222222, 0.23232323, 0.24242425,\n",
       "       0.25252524, 0.26262626, 0.27272728, 0.28282827, 0.2929293 ,\n",
       "       0.3030303 , 0.3131313 , 0.32323232, 0.33333334, 0.34343433,\n",
       "       0.35353535, 0.36363637, 0.37373737, 0.3838384 , 0.3939394 ,\n",
       "       0.4040404 , 0.41414142, 0.42424244, 0.43434343, 0.44444445,\n",
       "       0.45454547, 0.46464646, 0.47474748, 0.4848485 , 0.4949495 ,\n",
       "       0.5050505 , 0.5151515 , 0.5252525 , 0.53535354, 0.54545456,\n",
       "       0.5555556 , 0.56565654, 0.57575756, 0.5858586 , 0.5959596 ,\n",
       "       0.6060606 , 0.61616164, 0.6262626 , 0.6363636 , 0.64646465,\n",
       "       0.65656567, 0.6666667 , 0.67676765, 0.68686867, 0.6969697 ,\n",
       "       0.7070707 , 0.7171717 , 0.72727275, 0.7373737 , 0.74747473,\n",
       "       0.75757575, 0.7676768 , 0.7777778 , 0.7878788 , 0.7979798 ,\n",
       "       0.8080808 , 0.8181818 , 0.82828283, 0.83838385, 0.8484849 ,\n",
       "       0.85858583, 0.86868685, 0.8787879 , 0.8888889 , 0.8989899 ,\n",
       "       0.90909094, 0.9191919 , 0.9292929 , 0.93939394, 0.94949496,\n",
       "       0.959596  , 0.969697  , 0.97979796, 0.989899  , 1.        ],      dtype=float32)"
      ]
     },
     "execution_count": 75,
     "metadata": {},
     "output_type": "execute_result"
    }
   ],
   "source": [
    "X"
   ]
  },
  {
   "cell_type": "code",
   "execution_count": 82,
   "metadata": {},
   "outputs": [
    {
     "name": "stdout",
     "output_type": "stream",
     "text": [
      "(2, 100)\n",
      "(100,)\n",
      "()\n"
     ]
    }
   ],
   "source": [
    "X = jnp.linspace(0,1, 100)[:, None]\n",
    "dist_matrix = squareform(pdist(X))\n",
    "\n",
    "# We always include boundary points at the beginning of the ordering\n",
    "idx_order = [0, X.shape[0]-1]\n",
    "# We start with all points not in the ordering\n",
    "idx_left = jnp.arange(1, X.shape[0]-1)\n",
    "\n",
    "\n",
    "dist_temp = dist_matrix[idx_order, :]\n",
    "print(dist_temp.shape)\n",
    "print(jnp.max(jnp.min(dist_temp, axis = 0), axis = -1).shape)\n",
    "score_list = [ jnp.max(jnp.min(dist_temp, axis = 0), axis = -1)]\n",
    "\n",
    "for i in range(X.shape[0]-2):\n",
    "    best_score = jnp.inf\n",
    "    best_idx = 0\n",
    "    for j in range(len(idx_left)):\n",
    "        current_idx = idx_left[j].item()\n",
    "        temp_idx =idx_order.copy()\n",
    "        temp_idx.append(current_idx)\n",
    "        dist_temp = dist_matrix[temp_idx, :]\n",
    "        \n",
    "        current_score = jnp.max(jnp.min(dist_temp, axis = 0), axis = -1)\n",
    "        if current_score < best_score:\n",
    "            best_score = current_score\n",
    "            best_j = j\n",
    "    # Add the current score to the list\n",
    "    score_list.append(best_score)\n",
    "    # Add the selected point to the ordering\n",
    "    idx_order.append(idx_left[best_j].item())\n",
    "    # Remove the selected point from the distance matrix\n",
    "    idx_left = jnp.delete(idx_left, best_j)\n",
    "\n",
    "\n",
    "\n",
    "        \n",
    "\n",
    "\n",
    "\n",
    "\n",
    "\n",
    "\n",
    "\n",
    "\n",
    "\n",
    "\n"
   ]
  },
  {
   "cell_type": "code",
   "execution_count": 83,
   "metadata": {},
   "outputs": [
    {
     "data": {
      "text/plain": [
       "[0,\n",
       " 99,\n",
       " 49,\n",
       " 50,\n",
       " 1,\n",
       " 52,\n",
       " 2,\n",
       " 3,\n",
       " 4,\n",
       " 54,\n",
       " 5,\n",
       " 6,\n",
       " 57,\n",
       " 8,\n",
       " 59,\n",
       " 10,\n",
       " 61,\n",
       " 12,\n",
       " 62,\n",
       " 7,\n",
       " 9,\n",
       " 11,\n",
       " 13,\n",
       " 64,\n",
       " 14,\n",
       " 15,\n",
       " 16,\n",
       " 66,\n",
       " 17,\n",
       " 18,\n",
       " 69,\n",
       " 20,\n",
       " 71,\n",
       " 22,\n",
       " 74,\n",
       " 24,\n",
       " 19,\n",
       " 21,\n",
       " 23,\n",
       " 25,\n",
       " 26,\n",
       " 76,\n",
       " 27,\n",
       " 28,\n",
       " 78,\n",
       " 29,\n",
       " 30,\n",
       " 81,\n",
       " 32,\n",
       " 83,\n",
       " 34,\n",
       " 84,\n",
       " 31,\n",
       " 33,\n",
       " 35,\n",
       " 86,\n",
       " 36,\n",
       " 37,\n",
       " 38,\n",
       " 88,\n",
       " 39,\n",
       " 40,\n",
       " 90,\n",
       " 41,\n",
       " 42,\n",
       " 93,\n",
       " 44,\n",
       " 95,\n",
       " 46,\n",
       " 96,\n",
       " 43,\n",
       " 45,\n",
       " 47,\n",
       " 48,\n",
       " 51,\n",
       " 53,\n",
       " 55,\n",
       " 56,\n",
       " 58,\n",
       " 60,\n",
       " 63,\n",
       " 65,\n",
       " 67,\n",
       " 68,\n",
       " 70,\n",
       " 72,\n",
       " 73,\n",
       " 75,\n",
       " 77,\n",
       " 79,\n",
       " 80,\n",
       " 82,\n",
       " 85,\n",
       " 87,\n",
       " 89,\n",
       " 91,\n",
       " 92,\n",
       " 94,\n",
       " 98,\n",
       " 97]"
      ]
     },
     "execution_count": 83,
     "metadata": {},
     "output_type": "execute_result"
    }
   ],
   "source": [
    "idx_order"
   ]
  },
  {
   "cell_type": "code",
   "execution_count": 80,
   "metadata": {},
   "outputs": [],
   "source": [
    "import matplotlib.pyplot as plt"
   ]
  },
  {
   "cell_type": "code",
   "execution_count": 81,
   "metadata": {},
   "outputs": [
    {
     "data": {
      "text/plain": [
       "[<matplotlib.lines.Line2D at 0x29e08a81550>]"
      ]
     },
     "execution_count": 81,
     "metadata": {},
     "output_type": "execute_result"
    },
    {
     "data": {
      "image/png": "[encoded data removed]",
      "text/plain": [
       "<Figure size 640x480 with 1 Axes>"
      ]
     },
     "metadata": {},
     "output_type": "display_data"
    }
   ],
   "source": [
    "plt.plot(score_list)"
   ]
  },
  {
   "cell_type": "code",
   "execution_count": 19,
   "metadata": {},
   "outputs": [
    {
     "data": {
      "text/plain": [
       "Array([0, 1, 2, 3, 5, 6, 7, 8, 9], dtype=int32)"
      ]
     },
     "execution_count": 19,
     "metadata": {},
     "output_type": "execute_result"
    }
   ],
   "source": [
    "idx_left"
   ]
  }
 ],
 "metadata": {
  "kernelspec": {
   "display_name": "base",
   "language": "python",
   "name": "python3"
  },
  "language_info": {
   "codemirror_mode": {
    "name": "ipython",
    "version": 3
   },
   "file_extension": ".py",
   "mimetype": "text/x-python",
   "name": "python",
   "nbconvert_exporter": "python",
   "pygments_lexer": "ipython3",
   "version": "3.11.5"
  }
 },
 "nbformat": 4,
 "nbformat_minor": 2
}
