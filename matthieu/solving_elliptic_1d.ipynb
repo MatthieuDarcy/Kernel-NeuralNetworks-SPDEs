{
 "cells": [
  {
   "cell_type": "markdown",
   "metadata": {},
   "source": [
    "# Solving the Poisson equation with Dirichlet boundary conditions and approximate negative norm"
   ]
  },
  {
   "cell_type": "markdown",
   "metadata": {},
   "source": [
    "Given measurements of $f$ of the form \n",
    "\n",
    "$$\n",
    "\\int_{\\Omega} f(x)\\psi_i(x)dx\n",
    "$$\n",
    "we will approximate negative sobolev norm as \n",
    "\n",
    "$$\n",
    "[f, \\psi]A[f, \\psi]\n",
    "$$\n",
    "where \n",
    "$$\n",
    "A_{i,j} = \\int_{\\Omega} \\psi_i \\Delta^{-1} \\psi_j\n",
    "$$\n",
    "where \n",
    "$$\n",
    " \\Delta^{-1}\\psi (y) = \\int_\\Omega G(x,y)\\psi(x)dx\n",
    "$$\n",
    "In certain cases, we have access to explicit solutions although in general we would need to compute the Green's function numerically.\n",
    "\n",
    "In 2D, we consider the Green's function on the disk $D = \\{|x|<1 \\}$ is given by \n",
    "\n",
    "$$\n",
    "G(x, y) = \\frac{1}{2\\pi} \\Big( \\ln(|x - y|) -\\ln(|x - \\frac{y}{|y|^2}|) - \\ln(|y|) \\Big) \n",
    "$$\n"
   ]
  },
  {
   "cell_type": "markdown",
   "metadata": {},
   "source": []
  },
  {
   "cell_type": "code",
   "execution_count": 1,
   "metadata": {},
   "outputs": [
    {
     "name": "stderr",
     "output_type": "stream",
     "text": [
      "C:\\Users\\Matthieu\\AppData\\Local\\Temp\\ipykernel_27592\\830397750.py:8: DeprecationWarning: Accessing jax.config via the jax.config submodule is deprecated.\n",
      "  from jax.config import config\n"
     ]
    }
   ],
   "source": [
    "import jax.numpy as jnp\n",
    "from jax import random\n",
    "from jax import scipy \n",
    "\n",
    "import matplotlib.pyplot as plt\n",
    "\n",
    "\n",
    "from jax.config import config\n",
    "config.update(\"jax_enable_x64\", True)\n",
    "\n",
    "from jax import lax"
   ]
  },
  {
   "cell_type": "code",
   "execution_count": 2,
   "metadata": {},
   "outputs": [],
   "source": [
    "import utils_rough_pde\n",
    "from utils_rough_pde import *\n",
    "from utilities_kernel_matern import *"
   ]
  },
  {
   "cell_type": "code",
   "execution_count": 3,
   "metadata": {},
   "outputs": [],
   "source": [
    "lower = 0.0\n",
    "upper = jnp.pi/2\n",
    "\n",
    "L =upper -lower \n",
    "x = jnp.linspace(0, L, 2000)"
   ]
  },
  {
   "cell_type": "code",
   "execution_count": 4,
   "metadata": {},
   "outputs": [],
   "source": [
    "n_order = 10\n",
    "from scipy.special import roots_legendre\n",
    "x_q, w_q = roots_legendre(n_order)\n",
    "\n"
   ]
  },
  {
   "cell_type": "code",
   "execution_count": 5,
   "metadata": {},
   "outputs": [],
   "source": [
    "# Construct the measurements\n",
    "n_meas = 20\n",
    "epsilon_values =  jnp.array([L/(n_meas*2)])\n",
    "loc_values = jnp.linspace(lower + epsilon_values[0], upper - epsilon_values[0],  int(L/(2*epsilon_values[0])))\n",
    "support = jnp.array([loc_values - epsilon_values[0], loc_values + epsilon_values[0]]).T\n",
    "vol = support[:,1] - support[:,0]\n",
    "N_test_functions = loc_values.shape[0]"
   ]
  },
  {
   "cell_type": "code",
   "execution_count": 6,
   "metadata": {},
   "outputs": [
    {
     "data": {
      "image/png": "[encoded data removed]",
      "text/plain": [
       "<Figure size 640x480 with 1 Axes>"
      ]
     },
     "metadata": {},
     "output_type": "display_data"
    }
   ],
   "source": [
    "bump_values = vmap_indicator(x, epsilon_values, loc_values)\n",
    "\n",
    "for i, loc in enumerate(loc_values):\n",
    "    plt.plot(x, bump_values[:, 0, i])\n",
    "plt.title(\"Bump functions at different locations\")\n",
    "plt.show()"
   ]
  },
  {
   "cell_type": "markdown",
   "metadata": {},
   "source": [
    "## Computing the stiffness matrix\n",
    "We have to compute\n",
    "$$\n",
    "A_{i,j} = \\int_{\\Omega} \\psi_i \\Delta^{-1} \\psi_j =  \\int_{\\Omega} \\int_{\\Omega}\\psi_i(y) G(x,y) \\psi_j(y)dy \\approx \\sum_{k=1}\\sum_{l=1}w_k\\psi_{i}(x_k) G(x_k, x_l) w_l\\psi_j(x_l) = \\psi_i^\\intercal G(X,X)\\psi_j\n",
    "$$\n"
   ]
  },
  {
   "cell_type": "code",
   "execution_count": 12,
   "metadata": {},
   "outputs": [],
   "source": [
    "root_integration, w_integration = vmap_root_interval(x_q, w_q, support)\n",
    "psi_matrix = indicator_vector(root_integration, epsilon_values, loc_values)\n",
    "psi_matrix = psi_matrix * w_integration"
   ]
  },
  {
   "cell_type": "code",
   "execution_count": 18,
   "metadata": {},
   "outputs": [
    {
     "name": "stdout",
     "output_type": "stream",
     "text": [
      "(2000, 2000)\n"
     ]
    }
   ],
   "source": [
    "# Define the Green's function \n",
    "\n",
    "# def G(x, y):\n",
    "#     if x < y:\n",
    "#         return -jnp.sin(x) * jnp.cos(y)\n",
    "#     else: \n",
    "#         return -jnp.cos(x) * jnp.sin(y)\n",
    "\n",
    "def G(x, y):\n",
    "    def true_func(_):\n",
    "        return -jnp.sin(x) * jnp.cos(y)\n",
    "\n",
    "    def false_func(_):\n",
    "        return -jnp.cos(x) * jnp.sin(y)\n",
    "\n",
    "    return lax.cond(x < y, true_func, false_func, None)\n",
    "\n",
    "\n",
    "# First, vectorize G over x\n",
    "vectorized_G_x = vmap(G, in_axes=(0, None))\n",
    "\n",
    "# Then, vectorize the result over y\n",
    "vmap_G = vmap(vectorized_G_x, in_axes=(None, 0))\n",
    "\n",
    "print(vmap_G(x, x).shape)"
   ]
  },
  {
   "cell_type": "code",
   "execution_count": 37,
   "metadata": {},
   "outputs": [],
   "source": [
    "def compute_sobolev_ip(psi_1, psi_2, x_1, x_2):\n",
    "    return psi_1.T@ vmap_G(x_1, x_2)@psi_2"
   ]
  },
  {
   "cell_type": "code",
   "execution_count": 38,
   "metadata": {},
   "outputs": [
    {
     "data": {
      "text/plain": [
       "Array(-0.03896765, dtype=float64)"
      ]
     },
     "execution_count": 38,
     "metadata": {},
     "output_type": "execute_result"
    }
   ],
   "source": [
    "x_1 = root_integration[0]\n",
    "x_2 = root_integration[1]\n",
    "psi_1 = psi_matrix[0]\n",
    "psi_2 = psi_matrix[1]\n",
    "compute_sobolev_ip(psi_1, psi_2, x_1, x_2)"
   ]
  },
  {
   "cell_type": "code",
   "execution_count": 39,
   "metadata": {},
   "outputs": [],
   "source": [
    "vmap_sobolev_first_axes = vmap(compute_sobolev_ip, in_axes=(0, None, 0, None))\n",
    "vmap_sobolev_ip = vmap(vmap_sobolev_first_axes, in_axes=(None, 0, None, 0))"
   ]
  },
  {
   "cell_type": "code",
   "execution_count": 48,
   "metadata": {},
   "outputs": [
    {
     "data": {
      "text/plain": [
       "Array(True, dtype=bool)"
      ]
     },
     "execution_count": 48,
     "metadata": {},
     "output_type": "execute_result"
    }
   ],
   "source": [
    "A = vmap_sobolev_ip(psi_matrix, psi_matrix, root_integration, root_integration)\n",
    "jnp.allclose(A, A.T)"
   ]
  },
  {
   "cell_type": "markdown",
   "metadata": {},
   "source": [
    "# Solving the elliptic equation\n",
    "\n",
    "We aim to solve the following PDE:\n",
    "\n",
    "\\begin{aligned}\n",
    "u''(x) + u(x) = f(x) \\\\\n",
    "u(0) = 0, u\\Big(\\frac{\\pi}{2}\\Big) = 0\n",
    "\\end{aligned}"
   ]
  },
  {
   "cell_type": "code",
   "execution_count": null,
   "metadata": {},
   "outputs": [],
   "source": []
  }
 ],
 "metadata": {
  "kernelspec": {
   "display_name": "base",
   "language": "python",
   "name": "python3"
  },
  "language_info": {
   "codemirror_mode": {
    "name": "ipython",
    "version": 3
   },
   "file_extension": ".py",
   "mimetype": "text/x-python",
   "name": "python",
   "nbconvert_exporter": "python",
   "pygments_lexer": "ipython3",
   "version": "3.11.5"
  }
 },
 "nbformat": 4,
 "nbformat_minor": 2
}
